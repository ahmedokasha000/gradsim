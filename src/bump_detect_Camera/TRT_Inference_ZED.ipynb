{
 "cells": [
  {
   "cell_type": "code",
   "execution_count": 1,
   "metadata": {},
   "outputs": [
    {
     "name": "stdout",
     "output_type": "stream",
     "text": [
      "WARNING:tensorflow:\n",
      "The TensorFlow contrib module will not be included in TensorFlow 2.0.\n",
      "For more information, please see:\n",
      "  * https://github.com/tensorflow/community/blob/master/rfcs/20180907-contrib-sunset.md\n",
      "  * https://github.com/tensorflow/addons\n",
      "  * https://github.com/tensorflow/io (for I/O related ops)\n",
      "If you depend on functionality not listed there, please file an issue.\n",
      "\n"
     ]
    }
   ],
   "source": [
    "import helper_functions as hf\n",
    "import cv2\n",
    "import tensorflow.contrib.tensorrt as trt\n",
    "import tensorflow as tf\n",
    "import numpy as np"
   ]
  },
  {
   "cell_type": "code",
   "execution_count": 2,
   "metadata": {},
   "outputs": [],
   "source": [
    "import os \n",
    "\n",
    "\n",
    "# In[2]:\n",
    "current_dir=os.getcwd().split('/')\n",
    "pb_fname=\"/home/\"+current_dir[2]+\"/catkin_ws/src/gradsim/src/bump_detect_Camera/ssd_inception_v2_coco_trt.pb\"\n"
   ]
  },
  {
   "cell_type": "code",
   "execution_count": 3,
   "metadata": {},
   "outputs": [
    {
     "name": "stdout",
     "output_type": "stream",
     "text": [
      "WARNING:tensorflow:From /home/grad20/catkin_ws/src/gradsim/src/bump_detect_Camera/helper_functions.py:6: FastGFile.__init__ (from tensorflow.python.platform.gfile) is deprecated and will be removed in a future version.\n",
      "Instructions for updating:\n",
      "Use tf.gfile.GFile.\n",
      "WARNING:tensorflow:From /home/grad20/catkin_ws/src/gradsim/src/bump_detect_Camera/helper_functions.py:7: The name tf.GraphDef is deprecated. Please use tf.compat.v1.GraphDef instead.\n",
      "\n"
     ]
    },
    {
     "data": {
      "text/plain": [
       "[1, None, None, 3]"
      ]
     },
     "execution_count": 3,
     "metadata": {},
     "output_type": "execute_result"
    }
   ],
   "source": [
    "trt_graph = hf.get_frozen_graph(pb_fname)\n",
    "\n",
    "input_names = ['image_tensor']\n",
    "\n",
    "tf_config = tf.ConfigProto()\n",
    "tf_config.gpu_options.allow_growth = True\n",
    "tf_sess = tf.Session(config=tf_config)\n",
    "tf.import_graph_def(trt_graph, name='')\n",
    "\n",
    "tf_input = tf_sess.graph.get_tensor_by_name(input_names[0] + ':0')\n",
    "tf_scores = tf_sess.graph.get_tensor_by_name('detection_scores:0')\n",
    "tf_boxes = tf_sess.graph.get_tensor_by_name('detection_boxes:0')\n",
    "tf_classes = tf_sess.graph.get_tensor_by_name('detection_classes:0')\n",
    "tf_num_detections = tf_sess.graph.get_tensor_by_name('num_detections:0')\n",
    "tf_input.shape.as_list()"
   ]
  },
  {
   "cell_type": "code",
   "execution_count": 9,
   "metadata": {
    "scrolled": true
   },
   "outputs": [],
   "source": [
    "# import pyautogui\n",
    "count = 0\n",
    "cap = cv2.VideoCapture(\"/home/grad20/Desktop/test.mp4\")\n",
    "width, height, fps = 1280, 720, 30   #cap.get(cv2.CAP_PROP_FRAME_WIDTH)   # float\n",
    "#cap.set(cv2.CAP_PROP_FRAME_WIDTH, width)\n",
    "#cap.set(cv2.CAP_PROP_FRAME_HEIGHT, height)\n",
    "out = cv2.VideoWriter(\"/home/grad20/Desktop/test_detected.avi\",cv2.VideoWriter_fourcc(*'MJPG'),30,(1280,720))\n",
    "while True :\n",
    "\n",
    "    retval, image = cap.read()\n",
    "    #left_right_image = np.split(image, 2, axis=1)\n",
    "    #image = left_right_image[1]\n",
    "#     x, y = pyautogui.position()\n",
    "#     image = pyautogui.screenshot(region=(x-360, y-180, 640, 360))\n",
    "#     image = cv2.cvtColor(np.array(image), cv2.COLOR_RGB2BGR)\n",
    "    \n",
    "    # Detect Here...\n",
    "    if retval == False:\n",
    "        break\n",
    "        \n",
    "    scores, boxes, classes, num_detections = tf_sess.run([tf_scores, tf_boxes, tf_classes, tf_num_detections],\n",
    "                                                         feed_dict={tf_input: image[None, ...]})\n",
    "    boxes = boxes[0] # index by 0 to remove batch dimension\n",
    "    scores = scores[0]\n",
    "    classes = classes[0]\n",
    "    num_detections = int(num_detections[0])\n",
    "\n",
    "    # GPIO Signal........................\n",
    "    if scores[0] > 0.7:\n",
    "        count = count + 1\n",
    "        #print('Bump :(')\n",
    "        \n",
    "    if count > 20 :\n",
    "        count = 0\n",
    "        hf.visualize_detection(image, num_detections, classes, boxes, scores)\n",
    "    #else:\n",
    "        #print('No Bump :)')\n",
    "    #....................................\n",
    "    \n",
    "    cv2.imshow(\"Detection\", image)\n",
    "    #out.write(image)\n",
    "    if cv2.waitKey(25) & 0xFF == ord('q'):\n",
    "        break\n",
    "\n",
    "cap.release()\n",
    "#out.release()\n",
    "cv2.destroyAllWindows()"
   ]
  },
  {
   "cell_type": "code",
   "execution_count": null,
   "metadata": {},
   "outputs": [],
   "source": []
  }
 ],
 "metadata": {
  "kernelspec": {
   "display_name": "Python 3",
   "language": "python",
   "name": "python3"
  },
  "language_info": {
   "codemirror_mode": {
    "name": "ipython",
    "version": 3
   },
   "file_extension": ".py",
   "mimetype": "text/x-python",
   "name": "python",
   "nbconvert_exporter": "python",
   "pygments_lexer": "ipython3",
   "version": "3.6.9"
  }
 },
 "nbformat": 4,
 "nbformat_minor": 4
}
