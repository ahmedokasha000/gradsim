{
 "cells": [
  {
   "cell_type": "code",
   "execution_count": 3,
   "metadata": {},
   "outputs": [],
   "source": [
    "import numpy as np\n",
    "import matplotlib.pyplot as plt\n",
    "import pandas as pd\n",
    "import seaborn as sns\n",
    "import scipy.signal as sg\n",
    "from sklearn.ensemble import RandomForestClassifier,RandomForestRegressor\n",
    "from sklearn.model_selection import train_test_split\n",
    "import pickle\n",
    "from sklearn.metrics import mean_absolute_error, mean_squared_error,precision_recall_curve, precision_score,recall_score,f1_score\n",
    "from sklearn.metrics import confusion_matrix\n",
    "import matplotlib.pyplot as plt\n",
    "import os\n",
    "from sklearn.metrics import classification_report\n",
    "from sklearn.preprocessing import normalize\n",
    "\n",
    "\n",
    "from sklearn.model_selection import StratifiedKFold as StK\n",
    "%matplotlib qt\n",
    "pd.set_option(\"display.max_rows\",50)\n",
    "pd.set_option(\"display.max_columns\",50)\n",
    "pd.set_option(\"max_colwidth\",20)"
   ]
  },
  {
   "cell_type": "code",
   "execution_count": 24,
   "metadata": {},
   "outputs": [],
   "source": [
    "def butter_bandpass(data, rang, fs):\n",
    "    \"\"\"\n",
    "    bandpass the data withn certain frequency range for all sensors\n",
    "    Args:\n",
    "        data: a list of sensors measurements\n",
    "        range: tuple contain the min, max frequency\n",
    "        fs: sample frequence for the signal\n",
    "    Returns:\n",
    "        return a list arrays for all the filtered signals in the time domain\n",
    "    \"\"\"\n",
    "    results = []\n",
    "    zeros, poles = sg.butter(3, rang, btype=\"bandpass\", fs=fs)\n",
    "    # filter each sensor measurement\n",
    "    for key in data:\n",
    "        results.append(sg.filtfilt(zeros, poles, key))\n",
    "    return results\n",
    "\n",
    "\n",
    "\n",
    "\n",
    "# in your prediction file\n",
    "def load_model(model_path):\n",
    "    \"\"\"\n",
    "    Loads a saved sklearn regression model or train new model\n",
    "    Args:\n",
    "    Returns:\n",
    "        return the saved model\n",
    "    \"\"\"\n",
    "    path_n = model_path\n",
    "    if os.path.isfile(path_n):\n",
    "        fil = open(path_n, \"rb\")\n",
    "        prediction_model = pickle.load(fil)\n",
    "        print(\"model found\")\n",
    "    else:\n",
    "        prediction_model = model_train()\n",
    "        print(\"new model is created\")\n",
    "    return prediction_model\n",
    "\n",
    "def load_all_dataset(dir, fs, window_size=5, window_overlab=2):\n",
    "\n",
    "    \"\"\"\n",
    "    Load data, labels from all files, windowing on each 6 seconds data with\n",
    "    4 sec overlab each sample data is a window of 6 seconds and shifted 2 s\n",
    "    from the previoues one\n",
    "    Args:\n",
    "        data_fls: all the files for the dataset sensor measurements\n",
    "        ref_fls: all the files for the dataset sensor labels\n",
    "        fs: sample frequency\n",
    "    Returns: list of array for all samples in the dataset, each sample data\n",
    "     has all the sensors measurements in this sample in the time domain\n",
    "    \"\"\"\n",
    "\n",
    "    head=[\"acc_x\",\"acc_y\",\"acc_z\",\"ang_vel_x\",\"ang_vel_y\",\"ang_vel_z\",\"angle_x\",\"angle_y\",\"angle_z\",\"bump_class\"]\n",
    "    df=pd.read_csv(dir,sep=\",\")\n",
    "    df.columns=head\n",
    "\n",
    "    label_peaks, _ = sg.find_peaks(\n",
    "                df[\"bump_class\"].values, distance=200\n",
    "            )\n",
    "\n",
    "    for peak in label_peaks:\n",
    "        df[\"bump_class\"].iloc[peak-250:peak+250]=1\n",
    "        \n",
    "    X = []\n",
    "    Y = []\n",
    "    window_len = window_size * fs\n",
    "    window_shift_len = (window_size - window_overlab) * fs\n",
    "  \n",
    "    # Convert dataframe to samples each one is shifted 2s\n",
    "    number_samples = int(len(df) / window_shift_len)\n",
    "    for window_ind in range(number_samples):\n",
    "        sample_start = int(window_ind * window_shift_len)\n",
    "        sample_end = int(sample_start + window_len)\n",
    "        acc_x = df[\"acc_x\"][sample_start:sample_end].values\n",
    "        acc_y = df[\"acc_y\"][sample_start:sample_end].values\n",
    "        acc_z = df[\"acc_z\"][sample_start:sample_end].values\n",
    "        ang_vel_x=df[\"ang_vel_x\"][sample_start:sample_end].values\n",
    "        ang_vel_y=df[\"ang_vel_y\"][sample_start:sample_end].values\n",
    "        ang_vel_z=df[\"ang_vel_z\"][sample_start:sample_end].values\n",
    "        ang_x=df[\"angle_x\"][sample_start:sample_end].values\n",
    "        ang_y=df[\"angle_y\"][sample_start:sample_end].values\n",
    "        ang_z=df[\"angle_z\"][sample_start:sample_end].values\n",
    "        labels = df[\"bump_class\"][sample_start:sample_end].values\n",
    "        # [acc_x, acc_y, acc_z, ang_vel_x,ang_vel_y,ang_vel_z,ang_x,ang_y,ang_z]\n",
    "        X.append(np.array([acc_x, acc_y, acc_z,ang_vel_y,ang_y,ang_z]))\n",
    "        Y.append(np.array([labels]))\n",
    "    return X, Y\n",
    "\n",
    "def clean_datset(samples, labels, fs):\n",
    "    \"\"\"\n",
    "    Clean each seample data by performing bandpass filter on range of 0.7-4\n",
    "    Hz and add FFT for each sample in the dataset\n",
    "    Args:\n",
    "        samples: list of array for each sample. each sample data has several\n",
    "         sensor measurements\n",
    "        labels: list of arrays for each sample labels\n",
    "    Returns: tuble of dataset time and frequency data for all sensors, labels\n",
    "     for each sample\n",
    "    \"\"\"\n",
    "    clean_x = []\n",
    "    clean_y = []\n",
    "    for sample, label in zip(samples, labels):\n",
    "        bandpass_filtered = butter_bandpass(sample, (0.001, 10), fs)\n",
    "        fft_sample = fft_sensors(bandpass_filtered, fs)\n",
    "        clean_x.append([bandpass_filtered,(bandpass_filtered, fft_sample)])\n",
    "        clean_y.append([int(np.mean(label)>0.5)])\n",
    "    return (clean_x, clean_y)\n",
    "def fft_sensors(data, fs):\n",
    "    \"\"\"\n",
    "    fast fourier transform for the each sensor data\n",
    "    Args:\n",
    "        data: a list of sensors measurements\n",
    "        fs: sample frequence for the signal\n",
    "    Returns:\n",
    "        return a list of arrays for all the signals in the frequency domaoin\n",
    "        data is on this format data - > sensor1_freq, sensor1_powers\n",
    "                                    - > sensor2_freq, sensor2_powers\n",
    "                                    - > sensorn_freq, sensorn_powers\n",
    "    \"\"\"\n",
    "    ff_data = []\n",
    "    # FFT each sensor measurement\n",
    "    for key in data:\n",
    "        ff_freq = np.fft.rfftfreq(len(key), 1.0 / fs)\n",
    "        ff_power = np.fft.rfft(key)\n",
    "        ff_data.append(np.array([ff_freq, ff_power]))\n",
    "    return ff_data\n",
    "\n",
    "'''data is on this format data ->sample   time_data\n",
    "                                             - > acc_x\n",
    "                                             - > acc_y\n",
    "                                             - > acc_z\n",
    "                                             - > ang_vel_x\n",
    "                                             - > ang_vel_y\n",
    "                                             - > ang_vel_z\n",
    "                                             - > ang_x\n",
    "                                             - > ang_y\n",
    "                                             - > ang_z\n",
    "                                           freq_data\n",
    "                                             - > acc_x freqs ,acc_x power \n",
    "                                             - > acc_y freqs, acc_y power\n",
    "                                             - > acc_z freqs, acc_z power\n",
    "                                             - > ang_vel_x freqs, ang_vel_x power\n",
    "                                             - > ang_vel_y freqs, ang_vel_y power\n",
    "                                             - > ang_vel_z freqs, ang_vel_z power\n",
    "                                             - > ang_x freqs, ang_x power\n",
    "                                             - > ang_y freqs, ang_y power\n",
    "                                             - > ang_z freqs, ang_z power\n",
    "'''                                                 \n",
    "\n",
    "\n",
    "def featurize_samples(samples, fs):\n",
    "    \"\"\"\n",
    "    time and freq featurization for each sample sensors data\n",
    "    Args:\n",
    "        samples: a list of the dataset samples\n",
    "        fs: sample frequency\n",
    "    Returns: return a list of arrays for each sample features\n",
    "    \"\"\"\n",
    "    features = []\n",
    "    for sample in samples:\n",
    "        # extract each sample to each sensor time & freq data\n",
    "        time_data = sample[0]\n",
    "        freqs = np.abs(sample[1][0][0])\n",
    "        freq_data=[np.abs(sensor_freq_power[1]) for sensor_freq_power in sample[1]]\n",
    "        #  average freq power for all accel axes\n",
    "        # Time features\n",
    "        min_vals = [np.min(col_data) for col_data in time_data]\n",
    "        max_vals = [np.max(col_data) for col_data in time_data]\n",
    "        mean_vals = [np.mean(col_data) for col_data in time_data]\n",
    "        median_vals=[np.median(col_data) for col_data in time_data]\n",
    "        std_vals = [np.std(col_data) for col_data in time_data]\n",
    "        var_vals = [np.var(col_data) for col_data in time_data]\n",
    "        percentile_5=[np.percentile(col_data, 5) for col_data in time_data]\n",
    "        percentile_10=[np.percentile(col_data, 10) for col_data in time_data]\n",
    "        percentile_25=[np.percentile(col_data, 25) for col_data in time_data]\n",
    "        percentile_75=[np.percentile(col_data, 75) for col_data in time_data]\n",
    "        percentile_90=[np.percentile(col_data, 90) for col_data in time_data]\n",
    "        percentile_95=[np.percentile(col_data, 95) for col_data in time_data]\n",
    "        time_features =[]\n",
    "        time_features.extend(min_vals)\n",
    "        time_features.extend(max_vals)\n",
    "        time_features.extend(median_vals)\n",
    "        time_features.extend(mean_vals)\n",
    "        time_features.extend(std_vals)\n",
    "        time_features.extend(var_vals)\n",
    "        time_features.extend(percentile_5)\n",
    "        time_features.extend(percentile_10)\n",
    "        time_features.extend(percentile_25)\n",
    "        time_features.extend(percentile_75)\n",
    "        time_features.extend(percentile_90)\n",
    "        time_features.extend(percentile_95)\n",
    "\n",
    "        total_features = time_features\n",
    "        features.append(np.array(total_features))\n",
    "    return(features)\n",
    "\n",
    "def model_train(estimators=650, depth=14, file_path=\"model_1\"):\n",
    "    \"\"\"\n",
    "    train a random forest regressor on the dataset and save it in the\n",
    "     provided path\n",
    "    Args:\n",
    "        estimators: number of trees in the model\n",
    "        depth: single value for the depth of each tree of the model\n",
    "        file_path: a path string to which model will be saved\n",
    "    Returns: return the trained regression model\n",
    "    \"\"\"\n",
    "    # Reading ref and sensors data, create timestamp for both\n",
    "    fs_imu=100\n",
    "    dir1=\"./dataset/dataset_20_08_06.csv\"\n",
    "    data_x,data_y=load_all_dataset(dir1, fs_imu, window_size=5, window_overlab=2)\n",
    "    clean_x,clean_y=clean_datset(data_x, data_y, fs_imu)\n",
    "    dataset_feats=featurize_samples(clean_x, fs_imu)\n",
    "#     train_x, test_x, train_y, test_y = train_test_split(\n",
    "#         dataset_feats, clean_y, random_state=15, test_size=0.2\n",
    "#     )\n",
    "    #print(dataset_feats.shape)\n",
    "    dataset_feats=np.array(dataset_feats)\n",
    "    \n",
    "    clean_y=np.ravel(clean_y)\n",
    "    \n",
    "    folds = StK(n_splits=5)\n",
    "    y_true=[]\n",
    "    y_pred=[]\n",
    "    for train_index, test_index in folds.split(dataset_feats, clean_y):\n",
    "        X_train, X_test = dataset_feats[train_index], dataset_feats[test_index]\n",
    "        y_train, y_test = clean_y[train_index], clean_y[test_index]\n",
    "        clf = RandomForestRegressor(\n",
    "            n_estimators=estimators, max_depth=depth, random_state=15,\n",
    "        )\n",
    "        clf.fit(X_train,y_train)\n",
    "        y_true.extend(list(y_test))\n",
    "        y_pred.extend(clf.predict(X_test))\n",
    "    y_true=np.array(y_true)\n",
    "    y_pred=np.array(y_pred)\n",
    "    \n",
    "    with open(file_path, \"wb\") as f:\n",
    "        pickle.dump(clf, f)\n",
    "        print(\"model saved in the following dir: %s\" % file_path)\n",
    "    return clf,{\"y_true\":y_true,\"y_pred\":y_pred}\n",
    "\n",
    "def choose_best_threshold(results):\n",
    "    precision, recall, thresholds = precision_recall_curve(results[\"y_true\"],\n",
    "                                                           results[\"y_pred\"])\n",
    "    F1 = 2 * (precision * recall) / (precision + recall)\n",
    "    best_thresh_ind=np.argmax(F1)\n",
    "    best_thresh=thresholds[best_thresh_ind]\n",
    "    print(\"at best f-score\")\n",
    "    print(\"best thresh = \",best_thresh)\n",
    "    return best_thresh\n",
    "\n",
    "def evaluate_res(results):\n",
    "    mae_val = mean_absolute_error(results[\"y_true\"], results[\"y_pred\"])  # *60 toconvert from Hz t BPM\n",
    "    mse_val = mean_squared_error(results[\"y_true\"], results[\"y_pred\"])  # *60 to convert from Hz t BPM\n",
    "    conf_mat=confusion_matrix(results[\"y_true\"], results[\"y_pred\"],labels=[1,0])\n",
    "    \n",
    "    print(\"Model Results : \\n\")\n",
    "    print(\"mean absolute error\", mae_val)\n",
    "    print(\"mean square error\", mse_val)\n",
    "    print(\"\\nConfusion matrix\")\n",
    "    print(\"True\\Prediction\\t\\t1\\t\\t0\")\n",
    "    print(\"1\\t\\t\\t%d\\t\\t%d\"%(conf_mat[0,0],conf_mat[0,1]))\n",
    "    print(\"0\\t\\t\\t%d\\t\\t%d\"%(conf_mat[1,0],conf_mat[1,1]))\n",
    "    print(\"\\n\",classification_report(results[\"y_true\"], results[\"y_pred\"],labels=[0,1],\n",
    "                            target_names=[\"No Bump\",\"Bump\"]))\n",
    "\n",
    "def inference(imu_data, model_path=\"model_1\"):\n",
    "    \"\"\"\n",
    "    load regresssion model, perform prediction over latest 5 sec of imu data\n",
    "    return prediction and confidence for each sample\n",
    "    Args:\n",
    "        data_fl: file name for sensor measurements\n",
    "        model_path: a path string to which model will be saved\n",
    "    Returns: a data for predictions and confidence of each 2s measurement\n",
    "    \"\"\"\n",
    "    fs_imu = 100\n",
    "    labels=np.zeros(len(imu_data))\n",
    "    clean_x,clean_y=clean_datset([imu_data], [labels], fs_imu)\n",
    "    dataset_feats=featurize_samples(clean_x, fs_imu)\n",
    "    dataset_feats=np.array(dataset_feats[0]).reshape(1,-1)\n",
    "    clean_y = np.ravel(clean_y)\n",
    "    reg_model = load_model(model_path)\n",
    "    samples_pred = reg_model.predict(dataset_feats)\n",
    "    \n",
    "    return (samples_pred>0.4116).astype(int)"
   ]
  },
  {
   "cell_type": "code",
   "execution_count": 6,
   "metadata": {
    "scrolled": true
   },
   "outputs": [],
   "source": [
    "test2=[np.random.rand(500) for i in range(6)]"
   ]
  },
  {
   "cell_type": "code",
   "execution_count": 7,
   "metadata": {},
   "outputs": [
    {
     "name": "stdout",
     "output_type": "stream",
     "text": [
      "model found\n"
     ]
    },
    {
     "data": {
      "text/plain": [
       "array([0])"
      ]
     },
     "execution_count": 7,
     "metadata": {},
     "output_type": "execute_result"
    }
   ],
   "source": [
    "inference(test2, model_path=\"model_1\")"
   ]
  },
  {
   "cell_type": "code",
   "execution_count": 25,
   "metadata": {
    "scrolled": true
   },
   "outputs": [
    {
     "name": "stderr",
     "output_type": "stream",
     "text": [
      "/home/ahmed000/miniconda3/envs/AI_HC/lib/python3.7/site-packages/pandas/core/indexing.py:671: SettingWithCopyWarning: \n",
      "A value is trying to be set on a copy of a slice from a DataFrame\n",
      "\n",
      "See the caveats in the documentation: https://pandas.pydata.org/pandas-docs/stable/user_guide/indexing.html#returning-a-view-versus-a-copy\n",
      "  self._setitem_with_indexer(indexer, value)\n"
     ]
    },
    {
     "name": "stdout",
     "output_type": "stream",
     "text": [
      "model saved in the following dir: model_1\n"
     ]
    }
   ],
   "source": [
    "clf,res=model_train(estimators=300, depth=5)"
   ]
  },
  {
   "cell_type": "code",
   "execution_count": 26,
   "metadata": {
    "scrolled": true
   },
   "outputs": [],
   "source": [
    "feat_im=clf.feature_importances_"
   ]
  },
  {
   "cell_type": "code",
   "execution_count": 27,
   "metadata": {
    "scrolled": false
   },
   "outputs": [],
   "source": [
    "feat_im=feat_im.reshape(12,-1)"
   ]
  },
  {
   "cell_type": "code",
   "execution_count": 28,
   "metadata": {
    "scrolled": false
   },
   "outputs": [
    {
     "name": "stdout",
     "output_type": "stream",
     "text": [
      "max = 0.0185 min = 0.0009 mean = 0.0053 median = 0.0034\n",
      "max = 0.0069 min = 0.0005 mean = 0.0032 median = 0.0026\n",
      "max = 0.0052 min = 0.0003 mean = 0.0012 median = 0.0008\n",
      "max = 0.3836 min = 0.0024 mean = 0.0676 median = 0.0086\n",
      "max = 0.0083 min = 0.0004 mean = 0.0033 median = 0.0032\n",
      "max = 0.0072 min = 0.0007 mean = 0.0027 median = 0.0015\n"
     ]
    }
   ],
   "source": [
    "for ind in range(6):\n",
    "    mean=feat_im[:,ind].mean()\n",
    "    maxi=feat_im[:,ind].max()\n",
    "    mini=feat_im[:,ind].min()\n",
    "    med=np.median(feat_im[:,ind])\n",
    "    print(\"max = %0.4f min = %0.4f mean = %0.4f median = %0.4f\"%(maxi,mini,mean,med) )"
   ]
  },
  {
   "cell_type": "code",
   "execution_count": 29,
   "metadata": {},
   "outputs": [
    {
     "name": "stdout",
     "output_type": "stream",
     "text": [
      "max = 0.0125 min = 0.0012 mean = 0.0038 median = 0.0020\n",
      "max = 0.0041 min = 0.0003 mean = 0.0023 median = 0.0024\n",
      "max = 0.0083 min = 0.0008 mean = 0.0037 median = 0.0027\n",
      "max = 0.0035 min = 0.0003 mean = 0.0019 median = 0.0017\n",
      "max = 0.3836 min = 0.0003 mean = 0.0698 median = 0.0070\n",
      "max = 0.3527 min = 0.0006 mean = 0.0647 median = 0.0059\n",
      "max = 0.0110 min = 0.0004 mean = 0.0029 median = 0.0009\n",
      "max = 0.0169 min = 0.0008 mean = 0.0052 median = 0.0027\n",
      "max = 0.0059 min = 0.0013 mean = 0.0037 median = 0.0040\n",
      "max = 0.0034 min = 0.0012 mean = 0.0022 median = 0.0022\n",
      "max = 0.0062 min = 0.0008 mean = 0.0031 median = 0.0024\n",
      "max = 0.0121 min = 0.0004 mean = 0.0034 median = 0.0016\n"
     ]
    }
   ],
   "source": [
    "for ind in range(12):\n",
    "    mean=feat_im[ind,:].mean()\n",
    "    maxi=feat_im[ind,:].max()\n",
    "    mini=feat_im[ind,:].min()\n",
    "    med=np.median(feat_im[ind,:])\n",
    "    print(\"max = %0.4f min = %0.4f mean = %0.4f median = %0.4f\"%(maxi,mini,mean,med) )"
   ]
  },
  {
   "cell_type": "code",
   "execution_count": 30,
   "metadata": {
    "scrolled": true
   },
   "outputs": [
    {
     "name": "stdout",
     "output_type": "stream",
     "text": [
      "at best f-score\n",
      "best thresh =  0.4116013071895425\n"
     ]
    }
   ],
   "source": [
    "best_thre=choose_best_threshold(res)"
   ]
  },
  {
   "cell_type": "code",
   "execution_count": 31,
   "metadata": {},
   "outputs": [],
   "source": [
    "res_cpy=res.copy()"
   ]
  },
  {
   "cell_type": "code",
   "execution_count": 32,
   "metadata": {},
   "outputs": [],
   "source": [
    "res_cpy[\"y_pred\"]=(res_cpy[\"y_pred\"]>best_thre).astype(int)"
   ]
  },
  {
   "cell_type": "code",
   "execution_count": 33,
   "metadata": {},
   "outputs": [
    {
     "name": "stdout",
     "output_type": "stream",
     "text": [
      "Model Results : \n",
      "\n",
      "mean absolute error 0.04251012145748988\n",
      "mean square error 0.04251012145748988\n",
      "\n",
      "Confusion matrix\n",
      "True\\Prediction\t\t1\t\t0\n",
      "1\t\t\t61\t\t5\n",
      "0\t\t\t16\t\t412\n",
      "\n",
      "               precision    recall  f1-score   support\n",
      "\n",
      "     No Bump       0.99      0.96      0.98       428\n",
      "        Bump       0.79      0.92      0.85        66\n",
      "\n",
      "    accuracy                           0.96       494\n",
      "   macro avg       0.89      0.94      0.91       494\n",
      "weighted avg       0.96      0.96      0.96       494\n",
      "\n"
     ]
    }
   ],
   "source": [
    "evaluate_res(res_cpy)"
   ]
  },
  {
   "cell_type": "code",
   "execution_count": null,
   "metadata": {},
   "outputs": [],
   "source": [
    "for key in df.keys().values[:-1]:\n",
    "    res=df[key].values.copy()\n",
    "    res[~index_bump]=None\n",
    "    plt.figure(key)\n",
    "    plt.title(\"%s vs time\"%key)\n",
    "    plt.plot(ts,df[key].values,'b',label=key)\n",
    "    plt.plot(ts,res,'r.',label=\"bumps\")\n",
    "    plt.legend()\n",
    "    plt.show()"
   ]
  }
 ],
 "metadata": {
  "file_extension": ".py",
  "kernelspec": {
   "display_name": "Python 3.7.6 64-bit ('AI_HC': conda)",
   "language": "python",
   "name": "python37664bitaihccondac6cd57a919504a4e9221a3e0dabfd326"
  },
  "language_info": {
   "codemirror_mode": {
    "name": "ipython",
    "version": 3
   },
   "file_extension": ".py",
   "mimetype": "text/x-python",
   "name": "python",
   "nbconvert_exporter": "python",
   "pygments_lexer": "ipython3",
   "version": "3.7.6"
  },
  "mimetype": "text/x-python",
  "name": "python",
  "npconvert_exporter": "python",
  "pygments_lexer": "ipython3",
  "version": 3
 },
 "nbformat": 4,
 "nbformat_minor": 2
}
