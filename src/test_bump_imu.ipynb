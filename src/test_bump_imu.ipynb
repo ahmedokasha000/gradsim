{
 "nbformat": 4,
 "nbformat_minor": 2,
 "metadata": {
  "language_info": {
   "name": "python",
   "codemirror_mode": {
    "name": "ipython",
    "version": 3
   },
   "version": "3.7.6-final"
  },
  "orig_nbformat": 2,
  "file_extension": ".py",
  "mimetype": "text/x-python",
  "name": "python",
  "npconvert_exporter": "python",
  "pygments_lexer": "ipython3",
  "version": 3,
  "kernelspec": {
   "name": "python37664bitaihccondac6cd57a919504a4e9221a3e0dabfd326",
   "display_name": "Python 3.7.6 64-bit ('AI_HC': conda)"
  }
 },
 "cells": [
  {
   "cell_type": "code",
   "execution_count": 2,
   "metadata": {},
   "outputs": [],
   "source": [
    "import numpy as np\n",
    "import pandas as pd\n",
    "from bump_detection import BumpDetection\n",
    "import witmotion_imu as im\n",
    "import os\n"
   ]
  },
  {
   "cell_type": "code",
   "execution_count": 3,
   "metadata": {},
   "outputs": [],
   "source": [
    "test_df=pd.read_csv(\"clean_data.csv\")"
   ]
  },
  {
   "cell_type": "code",
   "execution_count": 4,
   "metadata": {},
   "outputs": [],
   "source": [
    "test_df.drop(columns=\"Unnamed: 0\",inplace=True)"
   ]
  },
  {
   "cell_type": "code",
   "execution_count": 14,
   "metadata": {},
   "outputs": [
    {
     "data": {
      "text/plain": "0"
     },
     "execution_count": 14,
     "metadata": {},
     "output_type": "execute_result"
    }
   ],
   "source": [
    "duration = 0.4  # seconds\n",
    "freq = 1500  # Hz\n",
    "os.system('play -nq -t alsa synth {} sine {}'.format(duration, freq))"
   ]
  },
  {
   "cell_type": "code",
   "execution_count": 19,
   "metadata": {},
   "outputs": [
    {
     "name": "stdout",
     "output_type": "stream",
     "text": "e_y': 1.99, 'stdev_ang_y': 0.6427856252281938}\n{'bool': 0, 'message': 'No Bump', 'deff_acc_z': 0.020000000000000004, 'diff_angle_y': 2.45, 'stdev_ang_y': 0.761472514277436}\n{'bool': 0, 'message': 'No Bump', 'deff_acc_z': 0.95, 'diff_angle_y': 3.86, 'stdev_ang_y': 1.0875108723594444}\n{'bool': 0, 'message': 'No Bump', 'deff_acc_z': 0.020000000000000004, 'diff_angle_y': 12.05, 'stdev_ang_y': 3.787776054296241}\n{'bool': 0, 'message': 'No Bump', 'deff_acc_z': 0.020000000000000004, 'diff_angle_y': 14.86, 'stdev_ang_y': 4.151219977006759}\n{'bool': 0, 'message': 'No Bump', 'deff_acc_z': 0.010000000000000009, 'diff_angle_y': 5.51, 'stdev_ang_y': 1.4528629589538031}\n{'bool': 0, 'message': 'No Bump', 'deff_acc_z': 0.010000000000000009, 'diff_angle_y': 4.9399999999999995, 'stdev_ang_y': 1.5552240795139458}\n{'bool': 0, 'message': 'No Bump', 'deff_acc_z': 1.05, 'diff_angle_y': 1.08, 'stdev_ang_y': 0.3166020214717524}\n{'bool': 0, 'message': 'No Bump', 'deff_acc_z': 1.06, 'diff_angle_y': 1.75, 'stdev_ang_y': 0.46453664817751467}\n{'bool': 0, 'message': 'No Bump', 'deff_acc_z': 1.06, 'diff_angle_y': 4.25, 'stdev_ang_y': 1.436668402067784}\n{'bool': 0, 'message': 'No Bump', 'deff_acc_z': 0.04, 'diff_angle_y': 2.15, 'stdev_ang_y': 0.5953730574186239}\n{'bool': 0, 'message': 'No Bump', 'deff_acc_z': 0.9299999999999999, 'diff_angle_y': 3.12, 'stdev_ang_y': 1.1163603349725393}\n{'bool': 0, 'message': 'No Bump', 'deff_acc_z': 0.9299999999999999, 'diff_angle_y': 2.8499999999999996, 'stdev_ang_y': 0.9000208386476394}\n{'bool': 0, 'message': 'No Bump', 'deff_acc_z': 0.8999999999999999, 'diff_angle_y': 3.1399999999999997, 'stdev_ang_y': 0.755011152235515}\n{'bool': 0, 'message': 'No Bump', 'deff_acc_z': 0.04, 'diff_angle_y': 5.84, 'stdev_ang_y': 1.6802906288794208}\n{'bool': 1, 'message': 'Bump Detected', 'deff_acc_z': 1.0, 'diff_angle_y': 14.11, 'stdev_ang_y': 5.179865387971003}\n{'bool': 0, 'message': 'No Bump', 'deff_acc_z': 1.0, 'diff_angle_y': 11.33, 'stdev_ang_y': 3.8631992842720395}\n{'bool': 0, 'message': 'No Bump', 'deff_acc_z': 0.020000000000000004, 'diff_angle_y': 3.9400000000000004, 'stdev_ang_y': 1.0881241243534674}\n{'bool': 0, 'message': 'No Bump', 'deff_acc_z': 0.06999999999999999, 'diff_angle_y': 4.8500000000000005, 'stdev_ang_y': 1.6026004110507397}\n{'bool': 0, 'message': 'No Bump', 'deff_acc_z': 0.03, 'diff_angle_y': 5.84, 'stdev_ang_y': 1.9571534935972703}\n{'bool': 0, 'message': 'No Bump', 'deff_acc_z': 0.03, 'diff_angle_y': 9.48, 'stdev_ang_y': 3.176392480472147}\n{'bool': 0, 'message': 'No Bump', 'deff_acc_z': 0.020000000000000004, 'diff_angle_y': 7.58, 'stdev_ang_y': 2.1657763411765307}\n{'bool': 0, 'message': 'No Bump', 'deff_acc_z': 0.03, 'diff_angle_y': 6.82, 'stdev_ang_y': 2.6218349986221483}\n{'bool': 0, 'message': 'No Bump', 'deff_acc_z': 0.03, 'diff_angle_y': 5.04, 'stdev_ang_y': 1.7155169599861146}\n{'bool': 0, 'message': 'No Bump', 'deff_acc_z': 0.94, 'diff_angle_y': 2.4299999999999997, 'stdev_ang_y': 0.8066595564424933}\n{'bool': 0, 'message': 'No Bump', 'deff_acc_z': 0.030000000000000006, 'diff_angle_y': 10.01, 'stdev_ang_y': 3.495866803812754}\n{'bool': 0, 'message': 'No Bump', 'deff_acc_z': 0.03, 'diff_angle_y': 9.71, 'stdev_ang_y': 3.441241342524526}\n{'bool': 0, 'message': 'No Bump', 'deff_acc_z': 0.03, 'diff_angle_y': 11.59, 'stdev_ang_y': 4.4754152600624675}\n{'bool': 0, 'message': 'No Bump', 'deff_acc_z': 0.020000000000000004, 'diff_angle_y': 5.140000000000001, 'stdev_ang_y': 1.723470275345647}\n{'bool': 0, 'message': 'No Bump', 'deff_acc_z': 0.03, 'diff_angle_y': 4.31, 'stdev_ang_y': 1.0544353749756312}\n{'bool': 0, 'message': 'No Bump', 'deff_acc_z': 0.020000000000000004, 'diff_angle_y': 1.58, 'stdev_ang_y': 0.45618697920918344}\n{'bool': 0, 'message': 'No Bump', 'deff_acc_z': 1.01, 'diff_angle_y': 7.49, 'stdev_ang_y': 2.4585111709121845}\n{'bool': 0, 'message': 'No Bump', 'deff_acc_z': 0.060000000000000005, 'diff_angle_y': 11.44, 'stdev_ang_y': 4.09216861792131}\n{'bool': 0, 'message': 'No Bump', 'deff_acc_z': 1.02, 'diff_angle_y': 2.6999999999999993, 'stdev_ang_y': 0.692599133698563}\n{'bool': 0, 'message': 'No Bump', 'deff_acc_z': 0.049999999999999996, 'diff_angle_y': 1.7, 'stdev_ang_y': 0.3695598429212784}\n{'bool': 0, 'message': 'No Bump', 'deff_acc_z': 0.04, 'diff_angle_y': 11.38, 'stdev_ang_y': 3.4083081594832354}\n{'bool': 1, 'message': 'Bump Detected', 'deff_acc_z': 0.9299999999999999, 'diff_angle_y': 12.83, 'stdev_ang_y': 4.2888950135786725}\n{'bool': 0, 'message': 'No Bump', 'deff_acc_z': 0.03, 'diff_angle_y': 9.4, 'stdev_ang_y': 3.155320122824307}\n{'bool': 0, 'message': 'No Bump', 'deff_acc_z': 0.97, 'diff_angle_y': 5.31, 'stdev_ang_y': 1.6435268753506893}\n{'bool': 0, 'message': 'No Bump', 'deff_acc_z': 0.03, 'diff_angle_y': 5.57, 'stdev_ang_y': 1.9955484734779059}\n{'bool': 0, 'message': 'No Bump', 'deff_acc_z': 0.03, 'diff_angle_y': 3.3099999999999996, 'stdev_ang_y': 0.7203651834312927}\n{'bool': 0, 'message': 'No Bump', 'deff_acc_z': 0.06, 'diff_angle_y': 3.4099999999999997, 'stdev_ang_y': 0.9177989104373572}\n{'bool': 0, 'message': 'No Bump', 'deff_acc_z': 0.96, 'diff_angle_y': 9.02, 'stdev_ang_y': 2.6399121197494435}\n{'bool': 0, 'message': 'No Bump', 'deff_acc_z': 0.96, 'diff_angle_y': 6.48, 'stdev_ang_y': 1.818938632829596}\n{'bool': 0, 'message': 'No Bump', 'deff_acc_z': 0.05, 'diff_angle_y': 6.16, 'stdev_ang_y': 1.589195994835124}\n{'bool': 0, 'message': 'No Bump', 'deff_acc_z': 0.94, 'diff_angle_y': 4.82, 'stdev_ang_y': 1.2363433897991287}\n{'bool': 0, 'message': 'No Bump', 'deff_acc_z': 0.94, 'diff_angle_y': 6.050000000000001, 'stdev_ang_y': 2.0539767671519558}\n{'bool': 0, 'message': 'No Bump', 'deff_acc_z': 0.04, 'diff_angle_y': 4.65, 'stdev_ang_y': 1.499931701778451}\n{'bool': 0, 'message': 'No Bump', 'deff_acc_z': 0.03, 'diff_angle_y': 4.02, 'stdev_ang_y': 1.1883395968745636}\n{'bool': 0, 'message': 'No Bump', 'deff_acc_z': 0.96, 'diff_angle_y': 5.85, 'stdev_ang_y': 1.9121746461816713}\n{'bool': 0, 'message': 'No Bump', 'deff_acc_z': 0.96, 'diff_angle_y': 4.93, 'stdev_ang_y': 1.3721030537098882}\n{'bool': 0, 'message': 'No Bump', 'deff_acc_z': 0.030000000000000006, 'diff_angle_y': 3.7699999999999996, 'stdev_ang_y': 1.2427891927032515}\n{'bool': 0, 'message': 'No Bump', 'deff_acc_z': 0.049999999999999996, 'diff_angle_y': 4.5600000000000005, 'stdev_ang_y': 1.5205979736603623}\n{'bool': 0, 'message': 'No Bump', 'deff_acc_z': 0.049999999999999996, 'diff_angle_y': 6.99, 'stdev_ang_y': 2.6452788317113187}\n{'bool': 0, 'message': 'No Bump', 'deff_acc_z': 0.039999999999999994, 'diff_angle_y': 10.09, 'stdev_ang_y': 3.358417341546461}\n{'bool': 0, 'message': 'No Bump', 'deff_acc_z': 1.05, 'diff_angle_y': 4.5600000000000005, 'stdev_ang_y': 1.0659647918669735}\n{'bool': 0, 'message': 'No Bump', 'deff_acc_z': 0.05, 'diff_angle_y': 5.17, 'stdev_ang_y': 1.5725258145734842}\n{'bool': 0, 'message': 'No Bump', 'deff_acc_z': 0.06, 'diff_angle_y': 5.109999999999999, 'stdev_ang_y': 1.5368613462183243}\n{'bool': 0, 'message': 'No Bump', 'deff_acc_z': 0.05, 'diff_angle_y': 6.61, 'stdev_ang_y': 2.2196994368607657}\n{'bool': 0, 'message': 'No Bump', 'deff_acc_z': 0.05, 'diff_angle_y': 7.61, 'stdev_ang_y': 2.0189450407329073}\n{'bool': 0, 'message': 'No Bump', 'deff_acc_z': 0.049999999999999996, 'diff_angle_y': 3.08, 'stdev_ang_y': 0.8298644452559707}\n{'bool': 0, 'message': 'No Bump', 'deff_acc_z': 0.020000000000000004, 'diff_angle_y': 8.809999999999999, 'stdev_ang_y': 2.861337176478857}\n{'bool': 0, 'message': 'No Bump', 'deff_acc_z': 0.03, 'diff_angle_y': 7.050000000000001, 'stdev_ang_y': 2.265987731100943}\n{'bool': 0, 'message': 'No Bump', 'deff_acc_z': 0.97, 'diff_angle_y': 5.989999999999999, 'stdev_ang_y': 2.02183505694703}\n{'bool': 0, 'message': 'No Bump', 'deff_acc_z': 0.98, 'diff_angle_y': 8.09, 'stdev_ang_y': 2.497392117790076}\n{'bool': 0, 'message': 'No Bump', 'deff_acc_z': 0.039999999999999994, 'diff_angle_y': 7.17, 'stdev_ang_y': 2.0043201939809916}\n{'bool': 0, 'message': 'No Bump', 'deff_acc_z': 0.08, 'diff_angle_y': 5.8100000000000005, 'stdev_ang_y': 1.7096966682718897}\n{'bool': 0, 'message': 'No Bump', 'deff_acc_z': 0.049999999999999996, 'diff_angle_y': 8.9, 'stdev_ang_y': 3.023633937830438}\n{'bool': 0, 'message': 'No Bump', 'deff_acc_z': 0.04, 'diff_angle_y': 7.25, 'stdev_ang_y': 2.6115320173223995}\n{'bool': 0, 'message': 'No Bump', 'deff_acc_z': 0.030000000000000006, 'diff_angle_y': 7.41, 'stdev_ang_y': 2.586997861904799}\n{'bool': 0, 'message': 'No Bump', 'deff_acc_z': 0.94, 'diff_angle_y': 8.76, 'stdev_ang_y': 2.8092413566655323}\n{'bool': 0, 'message': 'No Bump', 'deff_acc_z': 0.94, 'diff_angle_y': 1.63, 'stdev_ang_y': 0.5109566493353423}\n{'bool': 0, 'message': 'No Bump', 'deff_acc_z': 0.04, 'diff_angle_y': 3.95, 'stdev_ang_y': 1.1965323856879095}\n{'bool': 0, 'message': 'No Bump', 'deff_acc_z': 0.04, 'diff_angle_y': 5.640000000000001, 'stdev_ang_y': 1.9924865746097262}\n{'bool': 0, 'message': 'No Bump', 'deff_acc_z': 0.97, 'diff_angle_y': 7.359999999999999, 'stdev_ang_y': 2.219568862977673}\n{'bool': 0, 'message': 'No Bump', 'deff_acc_z': 0.03, 'diff_angle_y': 10.8, 'stdev_ang_y': 3.713871106742936}\n{'bool': 0, 'message': 'No Bump', 'deff_acc_z': 0.020000000000000004, 'diff_angle_y': 1.75, 'stdev_ang_y': 0.44888194439072726}\n{'bool': 0, 'message': 'No Bump', 'deff_acc_z': 0.03, 'diff_angle_y': 3.9899999999999998, 'stdev_ang_y': 1.219383695766021}\n{'bool': 0, 'message': 'No Bump', 'deff_acc_z': 0.020000000000000004, 'diff_angle_y': 4.17, 'stdev_ang_y': 1.2907601791192662}\n{'bool': 0, 'message': 'No Bump', 'deff_acc_z': 0.020000000000000004, 'diff_angle_y': 2.59, 'stdev_ang_y': 0.78423368806753}\n{'bool': 0, 'message': 'No Bump', 'deff_acc_z': 0.95, 'diff_angle_y': 6.5600000000000005, 'stdev_ang_y': 2.1822198416978984}\n{'bool': 0, 'message': 'No Bump', 'deff_acc_z': 0.96, 'diff_angle_y': 9.649999999999999, 'stdev_ang_y': 3.322562529133199}\n{'bool': 0, 'message': 'No Bump', 'deff_acc_z': 0.9199999999999999, 'diff_angle_y': 2.83, 'stdev_ang_y': 0.8489677835465843}\n{'bool': 0, 'message': 'No Bump', 'deff_acc_z': 0.8999999999999999, 'diff_angle_y': 3.97, 'stdev_ang_y': 1.3016214926006715}\n{'bool': 0, 'message': 'No Bump', 'deff_acc_z': 0.8999999999999999, 'diff_angle_y': 5.74, 'stdev_ang_y': 1.3479812674885359}\n{'bool': 0, 'message': 'No Bump', 'deff_acc_z': 0.96, 'diff_angle_y': 10.129999999999999, 'stdev_ang_y': 3.390094508638365}\n{'bool': 0, 'message': 'No Bump', 'deff_acc_z': 0.97, 'diff_angle_y': 5.0, 'stdev_ang_y': 1.4709928483850627}\n{'bool': 0, 'message': 'No Bump', 'deff_acc_z': 0.04, 'diff_angle_y': 2.56, 'stdev_ang_y': 0.896995416654957}\n{'bool': 0, 'message': 'No Bump', 'deff_acc_z': 0.9199999999999999, 'diff_angle_y': 3.73, 'stdev_ang_y': 1.103282002708283}\n{'bool': 0, 'message': 'No Bump', 'deff_acc_z': 0.9199999999999999, 'diff_angle_y': 5.34, 'stdev_ang_y': 1.722279358873002}\n{'bool': 0, 'message': 'No Bump', 'deff_acc_z': 0.03, 'diff_angle_y': 7.999999999999999, 'stdev_ang_y': 2.637335074938336}\n{'bool': 0, 'message': 'No Bump', 'deff_acc_z': 0.04, 'diff_angle_y': 11.6, 'stdev_ang_y': 3.025505478015203}\n{'bool': 0, 'message': 'No Bump', 'deff_acc_z': 0.09000000000000001, 'diff_angle_y': 3.95, 'stdev_ang_y': 1.4201976614190013}\n{'bool': 0, 'message': 'No Bump', 'deff_acc_z': 0.09000000000000001, 'diff_angle_y': 4.84, 'stdev_ang_y': 1.420458415442001}\n{'bool': 0, 'message': 'No Bump', 'deff_acc_z': 0.9299999999999999, 'diff_angle_y': 5.81, 'stdev_ang_y': 1.5242942629295697}\n{'bool': 0, 'message': 'No Bump', 'deff_acc_z': 0.9299999999999999, 'diff_angle_y': 4.03, 'stdev_ang_y': 1.5133586356181405}\n{'bool': 0, 'message': 'No Bump', 'deff_acc_z': 0.03, 'diff_angle_y': 6.4399999999999995, 'stdev_ang_y': 2.1017019954075318}\n{'bool': 0, 'message': 'No Bump', 'deff_acc_z': 0.03, 'diff_angle_y': 4.919999999999999, 'stdev_ang_y': 1.2491607972955283}\n{'bool': 0, 'message': 'No Bump', 'deff_acc_z': 0.020000000000000004, 'diff_angle_y': 7.039999999999999, 'stdev_ang_y': 1.9514347023408187}\n{'bool': 0, 'message': 'No Bump', 'deff_acc_z': 0.04, 'diff_angle_y': 9.18, 'stdev_ang_y': 2.876217251443291}\n{'bool': 0, 'message': 'No Bump', 'deff_acc_z': 0.8899999999999999, 'diff_angle_y': 10.889999999999999, 'stdev_ang_y': 3.0958491419964247}\n{'bool': 0, 'message': 'No Bump', 'deff_acc_z': 0.8899999999999999, 'diff_angle_y': 5.08, 'stdev_ang_y': 1.653084068491376}\n{'bool': 0, 'message': 'No Bump', 'deff_acc_z': 0.07, 'diff_angle_y': 6.71, 'stdev_ang_y': 1.9629495943604869}\n{'bool': 0, 'message': 'No Bump', 'deff_acc_z': 0.07, 'diff_angle_y': 7.68, 'stdev_ang_y': 2.4127128113391367}\n{'bool': 0, 'message': 'No Bump', 'deff_acc_z': 0.04, 'diff_angle_y': 4.17, 'stdev_ang_y': 1.2659109279487242}\n{'bool': 0, 'message': 'No Bump', 'deff_acc_z': 0.12, 'diff_angle_y': 2.8600000000000003, 'stdev_ang_y': 0.745107314418534}\n{'bool': 0, 'message': 'No Bump', 'deff_acc_z': 0.12, 'diff_angle_y': 9.07, 'stdev_ang_y': 3.211273168075242}\n{'bool': 0, 'message': 'No Bump', 'deff_acc_z': 0.06, 'diff_angle_y': 3.38, 'stdev_ang_y': 0.8433274556778049}\n{'bool': 0, 'message': 'No Bump', 'deff_acc_z': 0.04, 'diff_angle_y': 4.55, 'stdev_ang_y': 1.6181899486772249}\n{'bool': 0, 'message': 'No Bump', 'deff_acc_z': 0.060000000000000005, 'diff_angle_y': 6.12, 'stdev_ang_y': 1.704557003300271}\n{'bool': 0, 'message': 'No Bump', 'deff_acc_z': 0.03, 'diff_angle_y': 6.81, 'stdev_ang_y': 1.983968588461017}\n{'bool': 0, 'message': 'No Bump', 'deff_acc_z': 0.98, 'diff_angle_y': 10.43, 'stdev_ang_y': 2.745537368166749}\n{'bool': 0, 'message': 'No Bump', 'deff_acc_z': 0.03, 'diff_angle_y': 7.9, 'stdev_ang_y': 2.6666751653510405}\n{'bool': 0, 'message': 'No Bump', 'deff_acc_z': 0.030000000000000006, 'diff_angle_y': 4.82, 'stdev_ang_y': 1.3026264852213008}\n{'bool': 0, 'message': 'No Bump', 'deff_acc_z': 0.06999999999999999, 'diff_angle_y': 10.239999999999998, 'stdev_ang_y': 2.97191953962418}\n{'bool': 0, 'message': 'No Bump', 'deff_acc_z': 0.04, 'diff_angle_y': 10.27, 'stdev_ang_y': 3.0713430140575313}\n{'bool': 0, 'message': 'No Bump', 'deff_acc_z': 0.04, 'diff_angle_y': 12.82, 'stdev_ang_y': 3.6869346224200936}\n{'bool': 0, 'message': 'No Bump', 'deff_acc_z': 0.9299999999999999, 'diff_angle_y': 6.17, 'stdev_ang_y': 2.0949309654496973}\n{'bool': 0, 'message': 'No Bump', 'deff_acc_z': 0.9299999999999999, 'diff_angle_y': 12.45, 'stdev_ang_y': 3.8308881395180414}\n{'bool': 0, 'message': 'No Bump', 'deff_acc_z': 0.020000000000000004, 'diff_angle_y': 12.420000000000002, 'stdev_ang_y': 3.760011095395863}\n{'bool': 0, 'message': 'No Bump', 'deff_acc_z': 0.020000000000000004, 'diff_angle_y': 9.28, 'stdev_ang_y': 2.9646496841954195}\n{'bool': 0, 'message': 'No Bump', 'deff_acc_z': 0.020000000000000004, 'diff_angle_y': 10.02, 'stdev_ang_y': 2.988447817847921}\n{'bool': 0, 'message': 'No Bump', 'deff_acc_z': 0.05, 'diff_angle_y': 5.680000000000001, 'stdev_ang_y': 1.789769839253081}\n{'bool': 0, 'message': 'No Bump', 'deff_acc_z': 0.03, 'diff_angle_y': 5.51, 'stdev_ang_y': 1.488075931362375}\n{'bool': 0, 'message': 'No Bump', 'deff_acc_z': 0.049999999999999996, 'diff_angle_y': 9.799999999999999, 'stdev_ang_y': 2.7873206830216}\n{'bool': 0, 'message': 'No Bump', 'deff_acc_z': 1.04, 'diff_angle_y': 9.07, 'stdev_ang_y': 2.7945676655790606}\n{'bool': 0, 'message': 'No Bump', 'deff_acc_z': 0.020000000000000004, 'diff_angle_y': 5.3500000000000005, 'stdev_ang_y': 1.5738472599016717}\n{'bool': 0, 'message': 'No Bump', 'deff_acc_z': 0.020000000000000004, 'diff_angle_y': 5.26, 'stdev_ang_y': 1.561181424434713}\n{'bool': 0, 'message': 'No Bump', 'deff_acc_z': 0.8999999999999999, 'diff_angle_y': 7.72, 'stdev_ang_y': 2.5208413754141694}\n{'bool': 0, 'message': 'No Bump', 'deff_acc_z': 0.98, 'diff_angle_y': 4.2299999999999995, 'stdev_ang_y': 1.0471460452105046}\n{'bool': 0, 'message': 'No Bump', 'deff_acc_z': 0.04, 'diff_angle_y': 5.5, 'stdev_ang_y': 1.5889541560410105}\n{'bool': 0, 'message': 'No Bump', 'deff_acc_z': 0.03, 'diff_angle_y': 8.959999999999999, 'stdev_ang_y': 2.7339229830959026}\n{'bool': 1, 'message': 'Bump Detected', 'deff_acc_z': 0.95, 'diff_angle_y': 13.989999999999998, 'stdev_ang_y': 5.127507421740119}\n{'bool': 1, 'message': 'Bump Detected', 'deff_acc_z': 1.05, 'diff_angle_y': 16.549999999999997, 'stdev_ang_y': 5.868737087312739}\n{'bool': 0, 'message': 'No Bump', 'deff_acc_z': 0.04, 'diff_angle_y': 4.17, 'stdev_ang_y': 1.217198257269538}\n{'bool': 0, 'message': 'No Bump', 'deff_acc_z': 0.97, 'diff_angle_y': 5.07, 'stdev_ang_y': 1.6337261429015575}\n{'bool': 0, 'message': 'No Bump', 'deff_acc_z': 0.98, 'diff_angle_y': 4.619999999999999, 'stdev_ang_y': 1.7231195083336501}\n{'bool': 0, 'message': 'No Bump', 'deff_acc_z': 0.049999999999999996, 'diff_angle_y': 15.510000000000002, 'stdev_ang_y': 5.177421477917362}\n{'bool': 0, 'message': 'No Bump', 'deff_acc_z': 0.04, 'diff_angle_y': 12.370000000000001, 'stdev_ang_y': 3.137902222823395}\n{'bool': 0, 'message': 'No Bump', 'deff_acc_z': 0.04, 'diff_angle_y': 5.17, 'stdev_ang_y': 1.5266833201420653}\n{'bool': 0, 'message': 'No Bump', 'deff_acc_z': 1.04, 'diff_angle_y': 6.5, 'stdev_ang_y': 2.1385156908472753}\n{'bool': 0, 'message': 'No Bump', 'deff_acc_z': 0.04, 'diff_angle_y': 13.58, 'stdev_ang_y': 4.633215330361843}\n{'bool': 0, 'message': 'No Bump', 'deff_acc_z': 0.9299999999999999, 'diff_angle_y': 8.51, 'stdev_ang_y': 1.974857700569841}\n{'bool': 0, 'message': 'No Bump', 'deff_acc_z': 0.07, 'diff_angle_y': 1.98, 'stdev_ang_y': 0.5233349190527993}\n{'bool': 0, 'message': 'No Bump', 'deff_acc_z': 0.07, 'diff_angle_y': 6.27, 'stdev_ang_y': 1.9202377222625329}\n{'bool': 0, 'message': 'No Bump', 'deff_acc_z': 0.07, 'diff_angle_y': 5.15, 'stdev_ang_y': 1.6999269094581686}\n{'bool': 0, 'message': 'No Bump', 'deff_acc_z': 0.07, 'diff_angle_y': 3.93, 'stdev_ang_y': 1.1367297117169057}\n{'bool': 0, 'message': 'No Bump', 'deff_acc_z': 1.02, 'diff_angle_y': 3.63, 'stdev_ang_y': 0.7706151422727171}\n{'bool': 0, 'message': 'No Bump', 'deff_acc_z': 1.02, 'diff_angle_y': 4.67, 'stdev_ang_y': 1.2927565112966943}\n{'bool': 0, 'message': 'No Bump', 'deff_acc_z': 0.07, 'diff_angle_y': 4.58, 'stdev_ang_y': 1.4680515309416085}\n{'bool': 0, 'message': 'No Bump', 'deff_acc_z': 1.0, 'diff_angle_y': 3.9, 'stdev_ang_y': 1.3289318784271826}\n{'bool': 0, 'message': 'No Bump', 'deff_acc_z': 1.01, 'diff_angle_y': 3.9, 'stdev_ang_y': 1.2589326024454206}\n{'bool': 0, 'message': 'No Bump', 'deff_acc_z': 0.03, 'diff_angle_y': 7.0, 'stdev_ang_y': 1.9877265650737779}\n{'bool': 0, 'message': 'No Bump', 'deff_acc_z': 0.049999999999999996, 'diff_angle_y': 6.16, 'stdev_ang_y': 1.9148482315839028}\n{'bool': 0, 'message': 'No Bump', 'deff_acc_z': 0.98, 'diff_angle_y': 5.43, 'stdev_ang_y': 1.4547369788040723}\n{'bool': 0, 'message': 'No Bump', 'deff_acc_z': 0.98, 'diff_angle_y': 10.610000000000001, 'stdev_ang_y': 3.7052020292421304}\n{'bool': 0, 'message': 'No Bump', 'deff_acc_z': 0.020000000000000004, 'diff_angle_y': 6.66, 'stdev_ang_y': 2.2867908168435522}\n{'bool': 0, 'message': 'No Bump', 'deff_acc_z': 0.010000000000000009, 'diff_angle_y': 3.96, 'stdev_ang_y': 1.322288847982921}\n{'bool': 0, 'message': 'No Bump', 'deff_acc_z': 0.020000000000000004, 'diff_angle_y': 4.17, 'stdev_ang_y': 1.5214971935563997}\n{'bool': 0, 'message': 'No Bump', 'deff_acc_z': 0.020000000000000004, 'diff_angle_y': 5.78, 'stdev_ang_y': 1.638281202205531}\n{'bool': 0, 'message': 'No Bump', 'deff_acc_z': 0.03, 'diff_angle_y': 5.09, 'stdev_ang_y': 1.6454133219346438}\n{'bool': 0, 'message': 'No Bump', 'deff_acc_z': 0.04, 'diff_angle_y': 3.91, 'stdev_ang_y': 1.133703329800173}\n{'bool': 0, 'message': 'No Bump', 'deff_acc_z': 0.03, 'diff_angle_y': 7.21, 'stdev_ang_y': 2.334182921281021}\n{'bool': 0, 'message': 'No Bump', 'deff_acc_z': 0.03, 'diff_angle_y': 11.580000000000002, 'stdev_ang_y': 3.5748444371748547}\n{'bool': 0, 'message': 'No Bump', 'deff_acc_z': 0.06, 'diff_angle_y': 6.67, 'stdev_ang_y': 2.106388416223371}\n{'bool': 0, 'message': 'No Bump', 'deff_acc_z': 0.05, 'diff_angle_y': 6.9799999999999995, 'stdev_ang_y': 2.0524708134343834}\n{'bool': 0, 'message': 'No Bump', 'deff_acc_z': 0.04, 'diff_angle_y': 5.6000000000000005, 'stdev_ang_y': 1.6263870810787942}\n"
    }
   ],
   "source": [
    "\n",
    "    #####################   Accident Detection Initialization   #####################  \n",
    "    OUTPUT_RATE = 100\n",
    "    Bump_ob = BumpDetection(OUTPUT_RATE,log_data=False)\n",
    "    Bump_ob.DIFF_THRESHOLD = 1.0  # set the acceleration change threshold (3g set as default)\n",
    "    Bump_ob.STD_THRESHOLD = 0.6  # set the standard deviation threshold\n",
    "    BUFFER_SIZE= 500 # should contain 0.5s measurements, 50 measurements in case of 100Hz output rate\n",
    "    ####################################################################################\n",
    "    window_num= int(len(test_df)/BUFFER_SIZE)\n",
    "    last_seq = 0\n",
    "    buffer=[]\n",
    "    cols=[\"std_acc_x\",\"diff_angle_y\",\"std_acc_z\",\"std_vel_y\",\"std_angle_y\"]\n",
    "    out_df=pd.DataFrame(columns=cols)\n",
    "    for wind in range(window_num):\n",
    "        buffer=test_df.loc[wind*BUFFER_SIZE:wind*BUFFER_SIZE+BUFFER_SIZE,[\"acc_x\",\"acc_y\",\"acc_z\",\"ang_vel_y\",\"angle_y\"]].values\n",
    "            #####################   Feed Algorithm with the new buffer array ############\n",
    "        result = Bump_ob.process_buffer(buffer)\n",
    "        if(result[\"bool\"]):\n",
    "            os.system('play -nq -t alsa synth {} sine {}'.format(duration, freq))\n",
    "        out_df=out_df.append(result,ignore_index=True)\n",
    "        # print(result[\"stdev\"],result[\"accel_difference\"])\n",
    "        print(result)\n",
    "\n"
   ]
  },
  {
   "cell_type": "code",
   "execution_count": 20,
   "metadata": {},
   "outputs": [],
   "source": [
    "import matplotlib.pyplot as plt\n",
    "%matplotlib qt"
   ]
  },
  {
   "cell_type": "code",
   "execution_count": 22,
   "metadata": {},
   "outputs": [
    {
     "data": {
      "text/html": "<div>\n<style scoped>\n    .dataframe tbody tr th:only-of-type {\n        vertical-align: middle;\n    }\n\n    .dataframe tbody tr th {\n        vertical-align: top;\n    }\n\n    .dataframe thead th {\n        text-align: right;\n    }\n</style>\n<table border=\"1\" class=\"dataframe\">\n  <thead>\n    <tr style=\"text-align: right;\">\n      <th></th>\n      <th>std_acc_x</th>\n      <th>diff_angle_y</th>\n      <th>std_acc_z</th>\n      <th>std_vel_y</th>\n      <th>std_angle_y</th>\n      <th>bool</th>\n      <th>deff_acc_z</th>\n      <th>message</th>\n      <th>stdev_ang_y</th>\n    </tr>\n  </thead>\n  <tbody>\n    <tr>\n      <th>0</th>\n      <td>NaN</td>\n      <td>0.04</td>\n      <td>NaN</td>\n      <td>NaN</td>\n      <td>NaN</td>\n      <td>0.0</td>\n      <td>0.96</td>\n      <td>No Bump</td>\n      <td>0.008589</td>\n    </tr>\n    <tr>\n      <th>1</th>\n      <td>NaN</td>\n      <td>0.05</td>\n      <td>NaN</td>\n      <td>NaN</td>\n      <td>NaN</td>\n      <td>0.0</td>\n      <td>0.96</td>\n      <td>No Bump</td>\n      <td>0.010138</td>\n    </tr>\n    <tr>\n      <th>2</th>\n      <td>NaN</td>\n      <td>0.06</td>\n      <td>NaN</td>\n      <td>NaN</td>\n      <td>NaN</td>\n      <td>0.0</td>\n      <td>0.01</td>\n      <td>No Bump</td>\n      <td>0.011005</td>\n    </tr>\n    <tr>\n      <th>3</th>\n      <td>NaN</td>\n      <td>1.71</td>\n      <td>NaN</td>\n      <td>NaN</td>\n      <td>NaN</td>\n      <td>0.0</td>\n      <td>0.93</td>\n      <td>No Bump</td>\n      <td>0.654697</td>\n    </tr>\n    <tr>\n      <th>4</th>\n      <td>NaN</td>\n      <td>3.59</td>\n      <td>NaN</td>\n      <td>NaN</td>\n      <td>NaN</td>\n      <td>0.0</td>\n      <td>0.01</td>\n      <td>No Bump</td>\n      <td>1.142244</td>\n    </tr>\n    <tr>\n      <th>...</th>\n      <td>...</td>\n      <td>...</td>\n      <td>...</td>\n      <td>...</td>\n      <td>...</td>\n      <td>...</td>\n      <td>...</td>\n      <td>...</td>\n      <td>...</td>\n    </tr>\n    <tr>\n      <th>234</th>\n      <td>NaN</td>\n      <td>7.21</td>\n      <td>NaN</td>\n      <td>NaN</td>\n      <td>NaN</td>\n      <td>0.0</td>\n      <td>0.03</td>\n      <td>No Bump</td>\n      <td>2.334183</td>\n    </tr>\n    <tr>\n      <th>235</th>\n      <td>NaN</td>\n      <td>11.58</td>\n      <td>NaN</td>\n      <td>NaN</td>\n      <td>NaN</td>\n      <td>0.0</td>\n      <td>0.03</td>\n      <td>No Bump</td>\n      <td>3.574844</td>\n    </tr>\n    <tr>\n      <th>236</th>\n      <td>NaN</td>\n      <td>6.67</td>\n      <td>NaN</td>\n      <td>NaN</td>\n      <td>NaN</td>\n      <td>0.0</td>\n      <td>0.06</td>\n      <td>No Bump</td>\n      <td>2.106388</td>\n    </tr>\n    <tr>\n      <th>237</th>\n      <td>NaN</td>\n      <td>6.98</td>\n      <td>NaN</td>\n      <td>NaN</td>\n      <td>NaN</td>\n      <td>0.0</td>\n      <td>0.05</td>\n      <td>No Bump</td>\n      <td>2.052471</td>\n    </tr>\n    <tr>\n      <th>238</th>\n      <td>NaN</td>\n      <td>5.60</td>\n      <td>NaN</td>\n      <td>NaN</td>\n      <td>NaN</td>\n      <td>0.0</td>\n      <td>0.04</td>\n      <td>No Bump</td>\n      <td>1.626387</td>\n    </tr>\n  </tbody>\n</table>\n<p>239 rows × 9 columns</p>\n</div>",
      "text/plain": "     std_acc_x  diff_angle_y  std_acc_z  std_vel_y  std_angle_y  bool  \\\n0          NaN          0.04        NaN        NaN          NaN   0.0   \n1          NaN          0.05        NaN        NaN          NaN   0.0   \n2          NaN          0.06        NaN        NaN          NaN   0.0   \n3          NaN          1.71        NaN        NaN          NaN   0.0   \n4          NaN          3.59        NaN        NaN          NaN   0.0   \n..         ...           ...        ...        ...          ...   ...   \n234        NaN          7.21        NaN        NaN          NaN   0.0   \n235        NaN         11.58        NaN        NaN          NaN   0.0   \n236        NaN          6.67        NaN        NaN          NaN   0.0   \n237        NaN          6.98        NaN        NaN          NaN   0.0   \n238        NaN          5.60        NaN        NaN          NaN   0.0   \n\n     deff_acc_z  message  stdev_ang_y  \n0          0.96  No Bump     0.008589  \n1          0.96  No Bump     0.010138  \n2          0.01  No Bump     0.011005  \n3          0.93  No Bump     0.654697  \n4          0.01  No Bump     1.142244  \n..          ...      ...          ...  \n234        0.03  No Bump     2.334183  \n235        0.03  No Bump     3.574844  \n236        0.06  No Bump     2.106388  \n237        0.05  No Bump     2.052471  \n238        0.04  No Bump     1.626387  \n\n[239 rows x 9 columns]"
     },
     "execution_count": 22,
     "metadata": {},
     "output_type": "execute_result"
    }
   ],
   "source": [
    "\n",
    "out_df"
   ]
  },
  {
   "cell_type": "code",
   "execution_count": 28,
   "metadata": {},
   "outputs": [
    {
     "data": {
      "text/plain": "<matplotlib.legend.Legend at 0x7f3e6d4e70d0>"
     },
     "execution_count": 28,
     "metadata": {},
     "output_type": "execute_result"
    }
   ],
   "source": [
    "ts= [(i*5.)/60. for i in range(len(out_df))]\n",
    "#plt.plot(ts,out_df[\"deff_acc_z\"],label=\"deff_acc_z\")\n",
    "#plt.plot(ts,out_df[\"diff_angle_y\"],label=\"diff_angle_y\")\n",
    "#plt.plot(ts,out_df[\"std_acc_y\"],label=\"std_acc_y\")\n",
    "#plt.plot(ts,out_df[\"std_vel_y\"],label=\"std_vel_y\")\n",
    "plt.plot(ts,out_df[\"stdev_ang_y\"],label=\"std_angle_y\")\n",
    "plt.legend()"
   ]
  },
  {
   "cell_type": "code",
   "execution_count": null,
   "metadata": {},
   "outputs": [],
   "source": [
    "ts2= [(i)/(100.) for i in range(len(test_df))]\n",
    "\n",
    "plt.plot(ts2,test_df[\"angle_y\"])"
   ]
  },
  {
   "cell_type": "code",
   "execution_count": null,
   "metadata": {},
   "outputs": [],
   "source": []
  }
 ]
}